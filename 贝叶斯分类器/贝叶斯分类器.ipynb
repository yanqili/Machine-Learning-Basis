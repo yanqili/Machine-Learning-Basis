{
 "cells": [
  {
   "cell_type": "code",
   "execution_count": 2,
   "metadata": {},
   "outputs": [],
   "source": [
    "import pandas as pd\n",
    "import numpy as np\n",
    "import matplotlib.pyplot as plt"
   ]
  },
  {
   "cell_type": "markdown",
   "metadata": {},
   "source": [
    "### 后验概率"
   ]
  },
  {
   "cell_type": "markdown",
   "metadata": {},
   "source": [
    "$$P(c \\mid \\boldsymbol{x}) = \\frac{ P(c)P(\\boldsymbol{x} \\mid c)}{ P(\\boldsymbol{x}) }$$"
   ]
  },
  {
   "cell_type": "markdown",
   "metadata": {},
   "source": [
    "1、我认为不直接根据频率算$P(c \\mid \\boldsymbol{x})$的原因是：固定x的值，在训练样本中很难找到其对应不同类别的样本，因为`未被观测到`与`出现概率为零`通常是不同的"
   ]
  },
  {
   "cell_type": "markdown",
   "metadata": {},
   "source": [
    "2、那能不能直接假设$P(c \\mid \\boldsymbol{x})$具有某种确定的概率分布形式呢？\n",
    "我觉得不行，因为一般而言，c的取值可能性远远小于$\\boldsymbol{x}$，当$\\boldsymbol{x}$是连续值时，更不可行。"
   ]
  },
  {
   "cell_type": "markdown",
   "metadata": {},
   "source": [
    "#### 那么就只能去估计$P(\\boldsymbol{x}\\mid c)$"
   ]
  },
  {
   "cell_type": "markdown",
   "metadata": {},
   "source": [
    "对于参数估计，有2种方案：频率主义学派(认为概率分布的参数是固定的)、贝叶斯学派。"
   ]
  },
  {
   "cell_type": "markdown",
   "metadata": {},
   "source": [
    "#### 极大似然估计（频率主义学派）"
   ]
  },
  {
   "cell_type": "code",
   "execution_count": 10,
   "metadata": {},
   "outputs": [],
   "source": [
    "tmp = {'x':[1,2,3,4,5,6],\n",
    "       'c':[0,0,0,1,1,0]}\n",
    "df = pd.DataFrame(tmp,columns=['x','c'])"
   ]
  },
  {
   "cell_type": "code",
   "execution_count": 11,
   "metadata": {},
   "outputs": [
    {
     "data": {
      "text/html": [
       "<div>\n",
       "<style scoped>\n",
       "    .dataframe tbody tr th:only-of-type {\n",
       "        vertical-align: middle;\n",
       "    }\n",
       "\n",
       "    .dataframe tbody tr th {\n",
       "        vertical-align: top;\n",
       "    }\n",
       "\n",
       "    .dataframe thead th {\n",
       "        text-align: right;\n",
       "    }\n",
       "</style>\n",
       "<table border=\"1\" class=\"dataframe\">\n",
       "  <thead>\n",
       "    <tr style=\"text-align: right;\">\n",
       "      <th></th>\n",
       "      <th>x</th>\n",
       "      <th>c</th>\n",
       "    </tr>\n",
       "  </thead>\n",
       "  <tbody>\n",
       "    <tr>\n",
       "      <th>0</th>\n",
       "      <td>1</td>\n",
       "      <td>0</td>\n",
       "    </tr>\n",
       "    <tr>\n",
       "      <th>1</th>\n",
       "      <td>2</td>\n",
       "      <td>0</td>\n",
       "    </tr>\n",
       "    <tr>\n",
       "      <th>2</th>\n",
       "      <td>3</td>\n",
       "      <td>0</td>\n",
       "    </tr>\n",
       "    <tr>\n",
       "      <th>3</th>\n",
       "      <td>4</td>\n",
       "      <td>1</td>\n",
       "    </tr>\n",
       "    <tr>\n",
       "      <th>4</th>\n",
       "      <td>5</td>\n",
       "      <td>1</td>\n",
       "    </tr>\n",
       "    <tr>\n",
       "      <th>5</th>\n",
       "      <td>6</td>\n",
       "      <td>0</td>\n",
       "    </tr>\n",
       "  </tbody>\n",
       "</table>\n",
       "</div>"
      ],
      "text/plain": [
       "   x  c\n",
       "0  1  0\n",
       "1  2  0\n",
       "2  3  0\n",
       "3  4  1\n",
       "4  5  1\n",
       "5  6  0"
      ]
     },
     "execution_count": 11,
     "metadata": {},
     "output_type": "execute_result"
    }
   ],
   "source": [
    "df"
   ]
  },
  {
   "cell_type": "markdown",
   "metadata": {},
   "source": [
    "假设$p(\\boldsymbol{x} \\mid c) \\sim \\mathcal{N}(\\boldsymbol{\\mu}_c,\\boldsymbol{\\sigma}^2_c)$ "
   ]
  },
  {
   "cell_type": "markdown",
   "metadata": {},
   "source": [
    "参数的极大似然估计为：$\\widehat{\\boldsymbol{\\mu}}_c = mean(\\boldsymbol{x})$, $\\widehat{\\boldsymbol{\\sigma}}^2_c = mean((\\boldsymbol{x}-\\widehat{\\boldsymbol{\\mu}}_c)^2)$ (由求导得出)"
   ]
  },
  {
   "cell_type": "code",
   "execution_count": 15,
   "metadata": {},
   "outputs": [],
   "source": [
    "#正态分布的概率密度函数。可以理解成 x 是 mu（均值）和 sigma（标准差）的函数\n",
    "def normfun(x,mu,sigma_2):\n",
    "    pdf = np.exp(-((x - mu)**2)/(2*sigma_2)) / (np.sqrt(2*np.pi*sigma_2))\n",
    "    return pdf"
   ]
  },
  {
   "cell_type": "markdown",
   "metadata": {},
   "source": [
    "c = 0时"
   ]
  },
  {
   "cell_type": "code",
   "execution_count": 27,
   "metadata": {},
   "outputs": [
    {
     "name": "stdout",
     "output_type": "stream",
     "text": [
      "3.0 3.5\n"
     ]
    }
   ],
   "source": [
    "mu = df[df['c']==0]['x'].mean()\n",
    "sigma_2 = ((df[df['c']==0]['x']-mu)**2).mean()\n",
    "print(mu,sigma_2)"
   ]
  },
  {
   "cell_type": "code",
   "execution_count": 29,
   "metadata": {},
   "outputs": [
    {
     "name": "stdout",
     "output_type": "stream",
     "text": [
      "0    1\n",
      "1    2\n",
      "2    3\n",
      "5    6\n",
      "Name: x, dtype: int64\n"
     ]
    },
    {
     "data": {
      "image/png": "[encoded data removed]",
      "text/plain": [
       "<matplotlib.figure.Figure at 0x1da1133f7f0>"
      ]
     },
     "metadata": {},
     "output_type": "display_data"
    }
   ],
   "source": [
    "# 设定 x 轴前两个数字是 X 轴的开始和结束，第三个数字表示步长，或者区间的间隔长度\n",
    "x = np.arange(-10,10,0.1) \n",
    "#设定 y 轴，载入刚才的正态分布函数\n",
    "y = normfun(x, mu, sigma_2)\n",
    "plt.plot(x,y)\n",
    "print(df[df['c']==0]['x'])"
   ]
  },
  {
   "cell_type": "code",
   "execution_count": null,
   "metadata": {},
   "outputs": [],
   "source": []
  }
 ],
 "metadata": {
  "kernelspec": {
   "display_name": "Python 3",
   "language": "python",
   "name": "python3"
  },
  "language_info": {
   "codemirror_mode": {
    "name": "ipython",
    "version": 3
   },
   "file_extension": ".py",
   "mimetype": "text/x-python",
   "name": "python",
   "nbconvert_exporter": "python",
   "pygments_lexer": "ipython3",
   "version": "3.6.4"
  }
 },
 "nbformat": 4,
 "nbformat_minor": 2
}
